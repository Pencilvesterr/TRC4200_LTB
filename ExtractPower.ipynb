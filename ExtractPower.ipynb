{
 "cells": [
  {
   "cell_type": "code",
   "execution_count": 60,
   "metadata": {},
   "outputs": [],
   "source": [
    "import pandas as pd\n",
    "\n",
    "def power_used(df_chiller_boiler_raw, start_date, end_date) -> tuple:\n",
    "    \"\"\"\n",
    "    Return boiled and chiller kWh for a given time period from raw data.\n",
    "    Dates in 'yyyy-MM-dd' (optional hh:mm:ss)\n",
    "    \"\"\"\n",
    "    # Clean data\n",
    "    df_chiller_boiler_raw.columns = [\n",
    "        col.replace(' - Extended Trend Log', '').replace(' Extended Trend Log', '').replace(' Trend Log', '').replace(' - Ext', '').replace('thermal', 'Thermal')\n",
    "        for col in df_chiller_boiler_raw.columns\n",
    "    ]\n",
    "    # Convert all columns to float\n",
    "    exclude_timestamp_col = [col for col in df_chiller_boiler_raw.columns if col != 'Timestamp']\n",
    "    df_chiller_boiler_raw = df_chiller_boiler_raw.replace(',','', regex=True)\n",
    "    df_chiller_boiler_raw[exclude_timestamp_col] = df_chiller_boiler_raw[exclude_timestamp_col].apply(pd.to_numeric)\n",
    "\n",
    "    \n",
    "    # Filter for only date range \n",
    "    date_mask = (df_chiller_boiler_raw['Timestamp'] >= start_date) & (df_chiller_boiler_raw['Timestamp'] < end_date)\n",
    "    df_chiller_boiler = df_chiller_boiler_raw.loc[date_mask]\n",
    "    \n",
    "    totals = {}  # Leaving this here incase raw values need to be inspected\n",
    "    boiler = chiller = 0\n",
    "    for column in df_chiller_boiler:\n",
    "        if column != 'Timestamp':\n",
    "            column_sum = sum(df_chiller_boiler[column])\n",
    "            totals[column] = column_sum\n",
    "            if column.startswith('LTB CH'):\n",
    "                chiller += column_sum\n",
    "            elif  column.startswith('LTB  BLR'):\n",
    "                boiler += column_sum\n",
    "\n",
    "    # Limit sig figs\n",
    "    boiler = round(boiler, 2)\n",
    "    chiller = round(chiller, 2)\n",
    "    \n",
    "    return (chiller, boiler)\n",
    "    \n",
    "    \n",
    "    \n",
    "    \n",
    "    \n",
    "        \n",
    "        "
   ]
  },
  {
   "cell_type": "code",
   "execution_count": 61,
   "metadata": {},
   "outputs": [
    {
     "name": "stdout",
     "output_type": "stream",
     "text": [
      "(135906.13, 846.77)\n"
     ]
    }
   ],
   "source": [
    "df_chiller_boiler_raw = pd.read_csv('data/more_Data/chillers boilers thermal Feb 23032020.csv', parse_dates=[0],  dayfirst=True)\n",
    "start_date = '2020-02-01 15:00:40'\n",
    "end_date = '2020-02-25'\n",
    "\n",
    "\n",
    "results = power_used(df_chiller_boiler_raw, start_date, end_date) \n",
    "print(results)"
   ]
  }
 ],
 "metadata": {
  "kernelspec": {
   "display_name": "Python 3",
   "language": "python",
   "name": "python3"
  },
  "language_info": {
   "codemirror_mode": {
    "name": "ipython",
    "version": 3
   },
   "file_extension": ".py",
   "mimetype": "text/x-python",
   "name": "python",
   "nbconvert_exporter": "python",
   "pygments_lexer": "ipython3",
   "version": "3.7.3"
  }
 },
 "nbformat": 4,
 "nbformat_minor": 4
}
