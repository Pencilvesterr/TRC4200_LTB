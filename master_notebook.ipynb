{
 "cells": [
  {
   "cell_type": "code",
   "execution_count": null,
   "metadata": {},
   "outputs": [],
   "source": [
    "import matplotlib.pyplot as plt\n",
    "import pandas as pd\n",
    "from data_cleaner import *\n",
    "from room_energy import "
   ]
  },
  {
   "cell_type": "code",
   "execution_count": null,
   "metadata": {},
   "outputs": [],
   "source": [
    "df_fcu_sth_raw = pd.read_csv('data/Gnd floor FCU Sth 16032020.csv')\n",
    "df_fcu_nth_raw = pd.read_csv('data/Gnd floor FCU North 16032020.csv')\n",
    "df_ahu_raw = pd.read_csv('data/Gnd AHU multi list 16032020.csv')\n",
    "df_chiller_boiler_raw = pd.read_csv('data/more_Data/chillers boilers thermal Feb 23032020.csv')\n",
    "room_info_raw = pd.read_csv('data/Room Details.csv')\n",
    "\n",
    "df_ltb_temps = create_temp_df(df_fcu_sth_raw, df_fcu_nth_raw, df_ahu_raw)\n",
    "df_chiller_boiler_power = create_chiller_boiler_power_df(df_chiller_boiler_raw)\n",
    "df_room_info = create_room_info_df(room_info_raw)"
   ]
  },
  {
   "cell_type": "code",
   "execution_count": null,
   "metadata": {},
   "outputs": [],
   "source": []
  }
 ],
 "metadata": {
  "kernelspec": {
   "display_name": "Python 3",
   "language": "python",
   "name": "python3"
  },
  "language_info": {
   "codemirror_mode": {
    "name": "ipython",
    "version": 3
   },
   "file_extension": ".py",
   "mimetype": "text/x-python",
   "name": "python",
   "nbconvert_exporter": "python",
   "pygments_lexer": "ipython3",
   "version": "3.7.3"
  }
 },
 "nbformat": 4,
 "nbformat_minor": 4
}
