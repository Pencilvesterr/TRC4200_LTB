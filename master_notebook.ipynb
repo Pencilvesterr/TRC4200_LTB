{
 "cells": [
  {
   "cell_type": "code",
   "execution_count": 1,
   "metadata": {},
   "outputs": [],
   "source": [
    "import matplotlib.pyplot as plt\n",
    "import pandas as pd\n",
    "from data_cleaner import *\n",
    "from room_energy import energyLossAllRooms, energy_to_building"
   ]
  },
  {
   "cell_type": "code",
   "execution_count": 2,
   "metadata": {},
   "outputs": [],
   "source": [
    "df_fcu_sth_raw = pd.read_csv('data/Gnd floor FCU Sth 16032020.csv')\n",
    "df_fcu_nth_raw = pd.read_csv('data/Gnd floor FCU North 16032020.csv')\n",
    "df_ahu_raw = pd.read_csv('data/Gnd AHU multi list 16032020.csv')\n",
    "df_chiller_boiler_raw = pd.read_csv('data/more_Data/chillers boilers thermal Feb 23032020.csv')\n",
    "room_info_raw = pd.read_csv('data/Room Details.csv')\n",
    "df_ltb_space_raw = pd.read_csv('data/LTB Space Data.csv')"
   ]
  },
  {
   "cell_type": "code",
   "execution_count": null,
   "metadata": {},
   "outputs": [],
   "source": [
    "df_ltb_temps = create_temp_df(df_fcu_sth_raw, df_fcu_nth_raw, df_ahu_raw)\n",
    "df_chiller_boiler_power = create_chiller_boiler_power_df(df_chiller_boiler_raw)\n",
    "df_room_info = create_room_info_df(room_info_raw)\n",
    "\n",
    "# Ignore rooms with no external walls\n",
    "df_ltb_temps = df_ltb_temps.drop(['AHU-B1-02 ZnTmp_1', 'AHU-B1-02 ZnTmp_2','FCU-16 ZnTmp', 'FCU-15 ZnTmp'], axis=1)\n",
    "df_room_info = df_room_info[df_room_info['AHU / FCU'] != 'AHU-B1-02']\n",
    "df_room_info = df_room_info[df_room_info['AHU / FCU'] != 'FCU-16']\n",
    "df_room_info = df_room_info[df_room_info['AHU / FCU'] != 'FCU-15']\n"
   ]
  },
  {
   "cell_type": "code",
   "execution_count": null,
   "metadata": {},
   "outputs": [],
   "source": [
    "df_energy_room_change = energyLossAllRooms(df_ltb_temps, df_room_info, time_frame=[\"06:00\", \"18:00\"])\n",
    "df_energy_external = energy_to_building(df_ltb_temps, df_room_info, time_frame=[\"06:00\", \"18:00\"])"
   ]
  },
  {
   "cell_type": "markdown",
   "metadata": {},
   "source": [
    "# Plotting results"
   ]
  },
  {
   "cell_type": "markdown",
   "metadata": {},
   "source": [
    "#### Single Day Temperature results"
   ]
  },
  {
   "cell_type": "code",
   "execution_count": null,
   "metadata": {},
   "outputs": [],
   "source": [
    "START_DATE = '2020-02-06 01:10:0'  \n",
    "END_DATE = '2020-02-06 23:59:59'\n",
    "df_ltb_temps_day = create_temp_df(df_fcu_sth_raw, df_fcu_nth_raw, df_ahu_raw, START_DATE, END_DATE)\n",
    "\n",
    "time_frame = [\"00:00\", \"23:30\"]\n",
    "zn_tmp = 'FCU-04 ZnTmp'\n",
    "sa_tmp = 'FCU-04 SaTmp'\n",
    "df_ltb_temps_day = df_ltb_temps_day.between_time(time_frame[0], time_frame[1])\n",
    "delta_temp = df_ltb_temps_day['OaTmp'] - df_ltb_temps_day[zn_tmp]\n",
    " \n",
    "# Get current axis\n",
    "fig= plt.figure(figsize=(20,10))\n",
    "ax = plt.gca()\n",
    "\n",
    "df_ltb_temps_day['OaTmp'].plot(kind='line', ax=ax, legend=True)\n",
    "df_ltb_temps_day[zn_tmp].plot(kind='line', ax=ax, legend=True)\n",
    "df_ltb_temps_day[sa_tmp].plot(kind='line', ax=ax, legend=True)\n",
    "df_ltb_temps_day['FCU-24 ZnTmp'].plot(kind='line', ax=ax, legend=True)\n",
    "\n",
    "\n",
    "#delta_temp.plot(kind='line', ax=ax, legend=True)\n",
    "\n",
    "plt.show()"
   ]
  },
  {
   "cell_type": "markdown",
   "metadata": {},
   "source": [
    "#### Full Time Period"
   ]
  },
  {
   "cell_type": "code",
   "execution_count": null,
   "metadata": {},
   "outputs": [],
   "source": [
    "time_frame = [\"06:00\", \"18:00\"]\n",
    "df_ltb_temps_open = df_ltb_temps.between_time(time_frame[0], time_frame[1])\n",
    " \n",
    "# Get current axis\n",
    "fig= plt.figure(figsize=(20,10))\n",
    "ax = plt.gca()\n",
    "\n",
    "for col in df_ltb_temps_open.columns:\n",
    "    if 'Sa' not in col and 'OaRH' not in col:\n",
    "        df_ltb_temps_day[col].plot(kind='line', ax=ax, legend=True)\n",
    "\n",
    "plt.show()"
   ]
  },
  {
   "cell_type": "code",
   "execution_count": null,
   "metadata": {},
   "outputs": [],
   "source": [
    " # Get current axis\n",
    "fig= plt.figure(figsize=(20,10))\n",
    "ax = plt.gca()\n",
    "ax.set_title(\"Room Energy Change over February Period\")\n",
    "ax.set_ylabel(\"Energy due Temperature Change (kJ)\")\n",
    "for col in df_energy_room_change.columns:\n",
    "    df_energy_room_change[col].plot(kind='line', ax=ax, legend=True)\n",
    "\n",
    "plt.legend(loc=\"lower right\")\n",
    "plt.show()"
   ]
  },
  {
   "cell_type": "code",
   "execution_count": null,
   "metadata": {},
   "outputs": [],
   "source": [
    " # Get current axis\n",
    "fig= plt.figure(figsize=(20,10))\n",
    "ax = plt.gca()\n",
    "ax.set_title(\"Energy Exchange with Outside over February Period\")\n",
    "ax.set_ylabel(\"Energy Change Externally (kJ)\")\n",
    "for col in df_energy_external.columns:\n",
    "    df_energy_external[col].plot(kind='line', ax=ax, legend=True)\n",
    "    \n",
    "plt.legend(loc=\"lower right\")\n",
    "plt.show()"
   ]
  },
  {
   "cell_type": "markdown",
   "metadata": {},
   "source": [
    "Assuming change in room energy = incoming energy from outside - reduction of energy from AC\n",
    "\n",
    "-> reduction of energy from AC = incoming - change in room "
   ]
  },
  {
   "cell_type": "code",
   "execution_count": null,
   "metadata": {},
   "outputs": [],
   "source": [
    "df_effectice_ac_energy = df_energy_external - df_energy_room_change\n",
    "df_effectice_ac_energy.iloc[1:3]\n",
    "\n"
   ]
  },
  {
   "cell_type": "code",
   "execution_count": null,
   "metadata": {},
   "outputs": [],
   "source": [
    "df_energy_external.iloc[1:3]"
   ]
  },
  {
   "cell_type": "code",
   "execution_count": null,
   "metadata": {},
   "outputs": [],
   "source": [
    "df_energy_room_change.iloc[1:3]"
   ]
  },
  {
   "cell_type": "code",
   "execution_count": null,
   "metadata": {},
   "outputs": [],
   "source": [
    " # Get current axis\n",
    "fig= plt.figure(figsize=(20,10))\n",
    "ax = plt.gca()\n",
    "ax.set_title(\"Energy Used \")\n",
    "ax.set_ylabel(\"Energy Change Externally (kJ)\")\n",
    "for col in df_effectice_ac_energy.columns:\n",
    "    df_effectice_ac_energy[col].plot(kind='line', ax=ax, legend=True)\n",
    "    \n",
    "plt.legend(loc=\"lower right\")\n",
    "plt.show()"
   ]
  },
  {
   "cell_type": "code",
   "execution_count": null,
   "metadata": {},
   "outputs": [],
   "source": [
    "ac_energy_work = df_effectice_ac_energy.abs().sum().sum()"
   ]
  },
  {
   "cell_type": "code",
   "execution_count": null,
   "metadata": {},
   "outputs": [],
   "source": [
    "chiller_energy, boiler_energy = get_power_used(df_chiller_boiler_power)\n",
    "total_ac_energy_used = chiller_energy + boiler_energy\n",
    "\n",
    "ac_floor_area = df_room_info['Total Area'].sum()\n",
    "ltb_foor_area = df_ltb_space_raw['Room Area'].sum()\n",
    "gnd_floor_area = df_ltb_space_raw[df_ltb_space_raw['Floor'] == '01']['Room Area'].sum()\n",
    "\n",
    "ac_area_multiplier = ltb_foor_area / ac_floor_area\n",
    "building_ac_energy_work = ac_area_multiplier * ac_energy_work\n"
   ]
  },
  {
   "cell_type": "code",
   "execution_count": null,
   "metadata": {},
   "outputs": [],
   "source": [
    "BTU = building_ac_energy_work/ 1.055\n",
    "total_ac_wh = total_ac_energy_used/ 3.6  # kJ to Wh"
   ]
  },
  {
   "cell_type": "code",
   "execution_count": null,
   "metadata": {},
   "outputs": [],
   "source": [
    "SEER = BTU/total_ac_wh"
   ]
  },
  {
   "cell_type": "code",
   "execution_count": null,
   "metadata": {},
   "outputs": [],
   "source": [
    "SEER"
   ]
  },
  {
   "cell_type": "code",
   "execution_count": null,
   "metadata": {},
   "outputs": [],
   "source": []
  },
  {
   "cell_type": "code",
   "execution_count": null,
   "metadata": {},
   "outputs": [],
   "source": []
  }
 ],
 "metadata": {
  "kernelspec": {
   "display_name": "Python 3",
   "language": "python",
   "name": "python3"
  },
  "language_info": {
   "codemirror_mode": {
    "name": "ipython",
    "version": 3
   },
   "file_extension": ".py",
   "mimetype": "text/x-python",
   "name": "python",
   "nbconvert_exporter": "python",
   "pygments_lexer": "ipython3",
   "version": "3.7.3"
  }
 },
 "nbformat": 4,
 "nbformat_minor": 4
}
